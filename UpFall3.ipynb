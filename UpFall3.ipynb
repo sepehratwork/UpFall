{
  "cells": [
    {
      "cell_type": "markdown",
      "metadata": {
        "id": "zYjxy8RQC_g5"
      },
      "source": [
        "# Data Preprocessing"
      ]
    },
    {
      "cell_type": "code",
      "execution_count": 1,
      "metadata": {
        "id": "imXIpcuRC_hC"
      },
      "outputs": [
        {
          "name": "stderr",
          "output_type": "stream",
          "text": [
            "c:\\Users\\lenovo\\anaconda3\\envs\\Sepehr\\lib\\site-packages\\tqdm\\auto.py:22: TqdmWarning: IProgress not found. Please update jupyter and ipywidgets. See https://ipywidgets.readthedocs.io/en/stable/user_install.html\n",
            "  from .autonotebook import tqdm as notebook_tqdm\n"
          ]
        }
      ],
      "source": [
        "import pandas as pd\n",
        "import numpy as np\n",
        "\n",
        "import torch\n",
        "import torch.nn as nn\n",
        "import matplotlib.pyplot as plt\n",
        "\n",
        "import torchvision\n",
        "import torchvision.transforms as transforms\n",
        "import torch.nn as nn\n",
        "from torch.utils.data import TensorDataset, DataLoader, Dataset\n",
        "\n",
        "import tensorflow as tf\n",
        "from tensorflow import keras"
      ]
    },
    {
      "cell_type": "code",
      "execution_count": 2,
      "metadata": {
        "id": "QJ3Hlm7tC_hG"
      },
      "outputs": [],
      "source": [
        "dataframe1 = pd.read_csv('CompleteDataSet.csv', dtype=\"str\")\n",
        "\n",
        "dataset = dataframe1.values.tolist()\n",
        "\n",
        "new_dataset = np.array(dataset)"
      ]
    },
    {
      "cell_type": "code",
      "execution_count": 3,
      "metadata": {
        "id": "aB36QIyRC_hH"
      },
      "outputs": [],
      "source": [
        "X = []\n",
        "y = []\n",
        "\n",
        "for i in range(1,4):\n",
        "    # Trial\n",
        "    for j in range(1,12):\n",
        "        # Activity\n",
        "        for k in range(1,18):\n",
        "            # Subject\n",
        "            z = []\n",
        "            # Each Video\n",
        "            for n in range(1,len(new_dataset)-1):\n",
        "                if (float(new_dataset[n][45]) == i) & (float(new_dataset[n][44]) == j) & (float(new_dataset[n][43]) == k):\n",
        "                    a = new_dataset[n,15:18]\n",
        "                    a = a.astype(np.float32)\n",
        "                    b = new_dataset[n,29:32]\n",
        "                    b = b.astype(np.float32)\n",
        "                    c = np.concatenate((a,b), axis = 0)\n",
        "                    z.append(c)\n",
        "            X.append(z)\n",
        "            y.append(j)"
      ]
    },
    {
      "cell_type": "code",
      "execution_count": 4,
      "metadata": {
        "colab": {
          "base_uri": "https://localhost:8080/"
        },
        "id": "V23L2omDC_hJ",
        "outputId": "50a54155-976a-4837-964c-8e4bbc377b7c"
      },
      "outputs": [
        {
          "data": {
            "text/plain": [
              "11"
            ]
          },
          "execution_count": 4,
          "metadata": {},
          "output_type": "execute_result"
        }
      ],
      "source": [
        "X.pop(551)\n",
        "X.pop(364)\n",
        "y.pop(551)\n",
        "y.pop(364)\n"
      ]
    },
    {
      "cell_type": "code",
      "execution_count": 5,
      "metadata": {
        "colab": {
          "base_uri": "https://localhost:8080/"
        },
        "id": "tuFrceS_C_hK",
        "outputId": "be907bbb-ea28-4b20-dc8d-e2a091b3b1ae"
      },
      "outputs": [
        {
          "name": "stdout",
          "output_type": "stream",
          "text": [
            "Avg: 527.1502683363149\n",
            "Min: 140\n",
            "Max: 1145\n"
          ]
        }
      ],
      "source": [
        "counter = 0\n",
        "max = 0\n",
        "min = 1000\n",
        "for i in range(len(X)):\n",
        "    counter += len(X[i])\n",
        "    if len(X[i]) == 0:\n",
        "        print(i)\n",
        "    if len(X[i]) > max:\n",
        "        max = len(X[i])\n",
        "    if len(X[i]) < min:\n",
        "        min = len(X[i])\n",
        "\n",
        "print(f\"Avg: {counter/len(X)}\\nMin: {min}\\nMax: {max}\")"
      ]
    },
    {
      "cell_type": "code",
      "execution_count": 6,
      "metadata": {
        "id": "YCEPfmjrC_hL"
      },
      "outputs": [],
      "source": [
        "def to_np_array(X):\n",
        "    for i in range(len(X)):\n",
        "        X[i] = np.array(X[i])\n",
        "        for j in range(len(X[i])):\n",
        "            X[i][j] = np.array(X[i][j])\n",
        "    X = np.array(X)\n",
        "    return X"
      ]
    },
    {
      "cell_type": "code",
      "execution_count": 7,
      "metadata": {
        "id": "XZvJw2v5JYwf"
      },
      "outputs": [],
      "source": [
        "for i in range(len(y)):\n",
        "  if (y[i] >= 6) & (y[i] <= 11):\n",
        "    y[i] = 0\n",
        "  elif (y[i] >= 1) & (y[i] <= 5):\n",
        "    y[i] = 1\n",
        "  else:\n",
        "    print(i)"
      ]
    },
    {
      "cell_type": "code",
      "execution_count": 8,
      "metadata": {
        "colab": {
          "base_uri": "https://localhost:8080/"
        },
        "id": "Jn5Ha4FQC_hM",
        "outputId": "b11749ed-0edf-47a8-8f43-52bb24a839db"
      },
      "outputs": [
        {
          "name": "stderr",
          "output_type": "stream",
          "text": [
            "C:\\Users\\lenovo\\AppData\\Local\\Temp\\ipykernel_2920\\3925073110.py:6: VisibleDeprecationWarning: Creating an ndarray from ragged nested sequences (which is a list-or-tuple of lists-or-tuples-or ndarrays with different lengths or shapes) is deprecated. If you meant to do this, you must specify 'dtype=object' when creating the ndarray.\n",
            "  X = np.array(X)\n"
          ]
        }
      ],
      "source": [
        "X_train = []\n",
        "X_test = []\n",
        "y_train = []\n",
        "y_test = []\n",
        "\n",
        "for i in range(1,12):\n",
        "    counter = 0\n",
        "    for j in range(len(y)):\n",
        "        if (i == y[j]) & (counter < 11):\n",
        "            X_test.append(X[j])\n",
        "            y_test.append(y[j])\n",
        "            counter += 1\n",
        "        elif (i == y[j]) & (counter >= 11):\n",
        "            X_train.append(X[j])\n",
        "            y_train.append(y[j])\n",
        "            counter += 1\n",
        "\n",
        "X_train = to_np_array(X_train)\n",
        "X_test = to_np_array(X_test)\n",
        "y_train = np.array(y_train, dtype=np.uint8)\n",
        "y_test = np.array(y_test, dtype=np.uint8)"
      ]
    },
    {
      "cell_type": "code",
      "execution_count": 9,
      "metadata": {
        "colab": {
          "base_uri": "https://localhost:8080/"
        },
        "id": "TnXMg10EC_hP",
        "outputId": "8c43137e-55ed-4491-e44b-2359cf2a9950"
      },
      "outputs": [
        {
          "name": "stdout",
          "output_type": "stream",
          "text": [
            "<class 'numpy.ndarray'>\n",
            "<class 'numpy.ndarray'>\n",
            "<class 'numpy.ndarray'>\n",
            "<class 'numpy.float32'>\n"
          ]
        }
      ],
      "source": [
        "print(type(X_train))\n",
        "print(type(X_train[0]))\n",
        "print(type(X_train[0][0]))\n",
        "print(type(X_train[0][0][0]))"
      ]
    },
    {
      "cell_type": "markdown",
      "metadata": {
        "id": "ZbzJUlW9C_hQ"
      },
      "source": [
        "# PyTorch"
      ]
    },
    {
      "cell_type": "code",
      "execution_count": 10,
      "metadata": {
        "colab": {
          "base_uri": "https://localhost:8080/"
        },
        "id": "kQyqgwTTC_hR",
        "outputId": "640aa3a3-112f-4b99-ed19-314db2260658"
      },
      "outputs": [
        {
          "name": "stdout",
          "output_type": "stream",
          "text": [
            "torch.Size([244, 1145, 6])\n",
            "torch.Size([11, 1145, 6])\n"
          ]
        }
      ],
      "source": [
        "X_train_tensor = torch.zeros((len(X_train),max, 6))\n",
        "X_test_tensor = torch.zeros((len(X_test),max, 6))\n",
        "y_train_tensor = torch.Tensor(y_train)\n",
        "y_test_tensor = torch.Tensor(y_test)\n",
        "\n",
        "for i in range(len(X_train)):\n",
        "    for j in range(len(X_train[i])):\n",
        "        for k in range(len(X_train[i][j])):\n",
        "            X_train_tensor[i][j][k] = float(X_train[i][j][k])\n",
        "for i in range(len(X_test)):\n",
        "    for j in range(len(X_test[i])):\n",
        "        for k in range(len(X_test[i][j])):\n",
        "            X_test_tensor[i][j][k] = float(X_test[i][j][k])\n",
        "\n",
        "print(X_train_tensor.shape)\n",
        "print(X_test_tensor.shape)"
      ]
    },
    {
      "cell_type": "code",
      "execution_count": 11,
      "metadata": {
        "id": "ns7stPyoC_hU"
      },
      "outputs": [],
      "source": [
        "train_dataset = []\n",
        "for i in range(len(X_train_tensor)):\n",
        "    a = (X_train_tensor[i], y_train_tensor[i])\n",
        "    train_dataset.append(a)\n",
        "test_dataset = []\n",
        "for i in range(len(X_test_tensor)):\n",
        "    a = (X_test_tensor[i], y_test_tensor[i])\n",
        "    test_dataset.append(a)"
      ]
    },
    {
      "cell_type": "code",
      "execution_count": 12,
      "metadata": {
        "colab": {
          "base_uri": "https://localhost:8080/"
        },
        "id": "3nI5rlLkC_hV",
        "outputId": "476c2ed9-f5eb-4b20-eff3-9c710dce74dc"
      },
      "outputs": [
        {
          "name": "stdout",
          "output_type": "stream",
          "text": [
            "Epoch [1/2], Step [1/15], Loss: 0.7012\n",
            "Epoch [1/2], Step [2/15], Loss: 0.6624\n",
            "Epoch [1/2], Step [3/15], Loss: 0.6074\n",
            "Epoch [1/2], Step [4/15], Loss: 0.4624\n",
            "Epoch [1/2], Step [5/15], Loss: 0.3136\n",
            "Epoch [1/2], Step [6/15], Loss: 0.3133\n"
          ]
        }
      ],
      "source": [
        "# Device configuration\n",
        "# device = torch.device('cuda' if torch.cuda.is_available() else 'cpu')\n",
        "\n",
        "# Hyper-parameters \n",
        "# input_size = 784 # 28x28\n",
        "num_classes = 2\n",
        "num_epochs = 2\n",
        "batch_size = 17\n",
        "learning_rate = 0.001\n",
        "\n",
        "input_size = 6\n",
        "sequence_length = 28\n",
        "hidden_size = 600\n",
        "num_layers = 2\n",
        "\n",
        "# MNIST dataset \n",
        "# train_dataset = torchvision.datasets.MNIST(root='./data', \n",
        "#                                            train=True, \n",
        "#                                            transform=transforms.ToTensor(),  \n",
        "#                                            download=True)\n",
        "\n",
        "# test_dataset = torchvision.datasets.MNIST(root='./data', \n",
        "#                                           train=False, \n",
        "#                                           transform=transforms.ToTensor())\n",
        "\n",
        "# Data loader\n",
        "train_loader = torch.utils.data.DataLoader(dataset=train_dataset, \n",
        "                                           batch_size=batch_size, \n",
        "                                           shuffle=True)\n",
        "\n",
        "test_loader = torch.utils.data.DataLoader(dataset=test_dataset, \n",
        "                                          batch_size=batch_size, \n",
        "                                          shuffle=False)\n",
        "\n",
        "\n",
        "# Fully connected neural network with one hidden layer\n",
        "class RNN(nn.Module):\n",
        "    def __init__(self, input_size, hidden_size, num_layers, num_classes):\n",
        "        super(RNN, self).__init__()\n",
        "        self.num_layers = num_layers\n",
        "        self.hidden_size = hidden_size\n",
        "        # self.rnn = nn.RNN(input_size, hidden_size, num_layers, batch_first=True)\n",
        "        # -> x needs to be: (batch_size, seq, input_size)\n",
        "        self.relu = nn.ReLU()\n",
        "        self.softmax = nn.Softmax(dim=1)\n",
        "        self.dropout = nn.Dropout(p=0.4)\n",
        "\n",
        "        # or:\n",
        "        #self.gru = nn.GRU(input_size, hidden_size, num_layers, batch_first=True)\n",
        "        self.lstm = nn.LSTM(input_size, hidden_size, num_layers, batch_first=True)\n",
        "        self.fc1 = nn.Linear(hidden_size, num_classes)\n",
        "        self.fc2 = nn.Linear(hidden_size, hidden_size)\n",
        "        \n",
        "    def forward(self, x):\n",
        "        # Set initial hidden states (and cell states for LSTM)\n",
        "        h0 = torch.zeros(self.num_layers, x.size(0), self.hidden_size)\n",
        "        c0 = torch.zeros(self.num_layers, x.size(0), self.hidden_size)\n",
        "        \n",
        "        # x: (n, 28, 28), h0: (2, n, 128)\n",
        "        \n",
        "        # Forward propagate RNN\n",
        "        # out, _ = self.rnn(x, h0)  \n",
        "        # or:\n",
        "        out, _ = self.lstm(x, (h0,c0))  \n",
        "        \n",
        "        # out: tensor of shape (batch_size, seq_length, hidden_size)\n",
        "        # out: (n, 28, 128)\n",
        "        \n",
        "        # Decode the hidden state of the last time step\n",
        "        out = out[:, -1, :]\n",
        "        # out: (n, 128)\n",
        "        out = self.dropout(out)\n",
        "        out = self.fc2(out)\n",
        "        out = self.relu(out)\n",
        "        # out = self.fc2(out)\n",
        "        # out = self.relu(out)\n",
        "        out = self.fc1(out)\n",
        "        out = self.softmax(out)\n",
        "        # out: (n, 10)\n",
        "        return out\n",
        "\n",
        "model = RNN(input_size, hidden_size, num_layers, num_classes)\n",
        "\n",
        "# Loss and optimizer\n",
        "criterion = nn.CrossEntropyLoss()\n",
        "optimizer = torch.optim.Adam(model.parameters(), lr=learning_rate)  \n",
        "\n",
        "# Train the model\n",
        "n_total_steps = len(train_loader)\n",
        "for epoch in range(num_epochs):\n",
        "    for i, (images, labels) in enumerate(train_loader):  \n",
        "        # origin shape: [N, 1, 28, 28]\n",
        "        # resized: [N, 28, 28]\n",
        "        images = images\n",
        "        labels = labels\n",
        "        \n",
        "        # Forward pass\n",
        "        outputs = model(images)\n",
        "        loss = criterion(outputs, labels.long())\n",
        "        \n",
        "        # Backward and optimize\n",
        "        optimizer.zero_grad()\n",
        "        loss.backward()\n",
        "        optimizer.step()\n",
        "        \n",
        "        print(f'Epoch [{epoch+1}/{num_epochs}], Step [{i+1}/{n_total_steps}], Loss: {loss.item():.4f}')\n",
        "\n",
        "# Test the model\n",
        "# In test phase, we don't need to compute gradients (for memory efficiency)\n",
        "with torch.no_grad():\n",
        "    n_correct = 0\n",
        "    n_samples = 0\n",
        "    for images, labels in test_loader:\n",
        "        # images = images.to(device)\n",
        "        # labels = labels.to(device)\n",
        "        outputs = model(images)\n",
        "        # max returns (value ,index)\n",
        "        _, predicted = torch.max(outputs.data, 1)\n",
        "        n_samples += labels.size(0)\n",
        "        n_correct += (predicted == labels).sum().item()\n",
        "\n",
        "    acc = 100.0 * n_correct / n_samples\n",
        "    print(f'Accuracy of the network on the {len(images)} test images: {acc} %')"
      ]
    },
    {
      "cell_type": "code",
      "execution_count": null,
      "metadata": {
        "id": "151WI55ElrOD"
      },
      "outputs": [],
      "source": [
        "model = RNN(input_size, hidden_size, num_layers, num_classes)\n",
        "\n",
        "example = torch.Tensor(batch_size, max, input_size)\n",
        "\n",
        "traced_script_module = torch.jit.trace(model, example)\n",
        "\n",
        "output = traced_script_module(torch.ones(batch_size, max, input_size))\n",
        "\n",
        "sm = torch.jit.script(model)\n",
        "\n",
        "traced_script_module.save(\"LSTM.pt\")"
      ]
    }
  ],
  "metadata": {
    "accelerator": "GPU",
    "colab": {
      "provenance": []
    },
    "gpuClass": "standard",
    "kernelspec": {
      "display_name": "Python 3.8.13 ('Sepehr')",
      "language": "python",
      "name": "python3"
    },
    "language_info": {
      "codemirror_mode": {
        "name": "ipython",
        "version": 3
      },
      "file_extension": ".py",
      "mimetype": "text/x-python",
      "name": "python",
      "nbconvert_exporter": "python",
      "pygments_lexer": "ipython3",
      "version": "3.8.13"
    },
    "orig_nbformat": 4,
    "vscode": {
      "interpreter": {
        "hash": "8a4c7d81ebaa7dcb79b50c90363320762cb9d4e6b8c9ac483c136f2714e4ebf0"
      }
    }
  },
  "nbformat": 4,
  "nbformat_minor": 0
}
